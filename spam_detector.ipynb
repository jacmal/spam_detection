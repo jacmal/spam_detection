{
  "nbformat": 4,
  "nbformat_minor": 0,
  "metadata": {
    "colab": {
      "name": "spam_detector.ipynb",
      "provenance": [],
      "collapsed_sections": [],
      "authorship_tag": "ABX9TyNqBZauT3ZfC/Wr+yrk9v5v",
      "include_colab_link": true
    },
    "kernelspec": {
      "name": "python3",
      "display_name": "Python 3"
    },
    "language_info": {
      "name": "python"
    }
  },
  "cells": [
    {
      "cell_type": "markdown",
      "metadata": {
        "id": "view-in-github",
        "colab_type": "text"
      },
      "source": [
        "<a href=\"https://colab.research.google.com/github/jacmal/spam_detection/blob/main/spam_detector.ipynb\" target=\"_parent\"><img src=\"https://colab.research.google.com/assets/colab-badge.svg\" alt=\"Open In Colab\"/></a>"
      ]
    },
    {
      "cell_type": "code",
      "metadata": {
        "id": "Bs663MTEuqYX"
      },
      "source": [
        "# import of libraries \n",
        "import pandas as pd\n",
        "import numpy as np\n",
        "\n",
        "import matplotlib.pyplot as plt\n",
        "import seaborn as sns\n",
        "\n",
        "import requests\n",
        "import io\n",
        "\n",
        "from sklearn.feature_extraction.text import CountVectorizer as CV\n",
        "from sklearn.model_selection import train_test_split as tts\n",
        "\n",
        "from sklearn.naive_bayes import MultinomialNB as MNB\n",
        "from sklearn.metrics import accuracy_score, classification_report, confusion_matrix"
      ],
      "execution_count": 1,
      "outputs": []
    },
    {
      "cell_type": "code",
      "metadata": {
        "colab": {
          "base_uri": "https://localhost:8080/",
          "height": 112
        },
        "id": "_nfHy4PXv49t",
        "outputId": "737dde5c-1158-4e31-b4cd-21a1bc9edf29"
      },
      "source": [
        "# downloading the dataset \n",
        "url=\"https://raw.githubusercontent.com/jacmal/spam_detection/main/emails.csv\"\n",
        "site = requests.get(url).content\n",
        "\n",
        "# creating a dataframe \n",
        "df = pd.read_csv(io.StringIO(site.decode('utf-8')))\n",
        "df.head(2)"
      ],
      "execution_count": 2,
      "outputs": [
        {
          "output_type": "execute_result",
          "data": {
            "text/html": [
              "<div>\n",
              "<style scoped>\n",
              "    .dataframe tbody tr th:only-of-type {\n",
              "        vertical-align: middle;\n",
              "    }\n",
              "\n",
              "    .dataframe tbody tr th {\n",
              "        vertical-align: top;\n",
              "    }\n",
              "\n",
              "    .dataframe thead th {\n",
              "        text-align: right;\n",
              "    }\n",
              "</style>\n",
              "<table border=\"1\" class=\"dataframe\">\n",
              "  <thead>\n",
              "    <tr style=\"text-align: right;\">\n",
              "      <th></th>\n",
              "      <th>text</th>\n",
              "      <th>spam</th>\n",
              "    </tr>\n",
              "  </thead>\n",
              "  <tbody>\n",
              "    <tr>\n",
              "      <th>0</th>\n",
              "      <td>Subject: naturally irresistible your corporate...</td>\n",
              "      <td>1</td>\n",
              "    </tr>\n",
              "    <tr>\n",
              "      <th>1</th>\n",
              "      <td>Subject: the stock trading gunslinger  fanny i...</td>\n",
              "      <td>1</td>\n",
              "    </tr>\n",
              "  </tbody>\n",
              "</table>\n",
              "</div>"
            ],
            "text/plain": [
              "                                                text  spam\n",
              "0  Subject: naturally irresistible your corporate...     1\n",
              "1  Subject: the stock trading gunslinger  fanny i...     1"
            ]
          },
          "metadata": {
            "tags": []
          },
          "execution_count": 2
        }
      ]
    },
    {
      "cell_type": "code",
      "metadata": {
        "id": "F0yhgT_xCtYm"
      },
      "source": [
        "# shuffle dataset\n",
        "df = df.sample(frac = 1)"
      ],
      "execution_count": 3,
      "outputs": []
    },
    {
      "cell_type": "code",
      "metadata": {
        "colab": {
          "base_uri": "https://localhost:8080/"
        },
        "id": "vlCOq1KzwNhM",
        "outputId": "950aadde-0c7e-4a03-fddc-5593b5674a0c"
      },
      "source": [
        "print(df.shape)"
      ],
      "execution_count": 4,
      "outputs": [
        {
          "output_type": "stream",
          "text": [
            "(5728, 2)\n"
          ],
          "name": "stdout"
        }
      ]
    },
    {
      "cell_type": "code",
      "metadata": {
        "colab": {
          "base_uri": "https://localhost:8080/"
        },
        "id": "DltjOI1ozs4j",
        "outputId": "99ef18dd-9841-4363-cb0d-9c816000803c"
      },
      "source": [
        "print(df.info())"
      ],
      "execution_count": 5,
      "outputs": [
        {
          "output_type": "stream",
          "text": [
            "<class 'pandas.core.frame.DataFrame'>\n",
            "Int64Index: 5728 entries, 2340 to 4176\n",
            "Data columns (total 2 columns):\n",
            " #   Column  Non-Null Count  Dtype \n",
            "---  ------  --------------  ----- \n",
            " 0   text    5728 non-null   object\n",
            " 1   spam    5728 non-null   int64 \n",
            "dtypes: int64(1), object(1)\n",
            "memory usage: 134.2+ KB\n",
            "None\n"
          ],
          "name": "stdout"
        }
      ]
    },
    {
      "cell_type": "code",
      "metadata": {
        "id": "5ZUzrHv2z7Pi"
      },
      "source": [
        "# checking spam / not spam (ham) messages \n",
        "spam = df[df['spam']==1]\n",
        "nspam = df[df['spam']==0]"
      ],
      "execution_count": 6,
      "outputs": []
    },
    {
      "cell_type": "code",
      "metadata": {
        "colab": {
          "base_uri": "https://localhost:8080/"
        },
        "id": "oTVzvX6K00_y",
        "outputId": "9d59e9fa-e0b4-46f2-e84b-1bf3f3cd521a"
      },
      "source": [
        "print('spam: ',spam.shape)\n",
        "print('other: ',nspam.shape)"
      ],
      "execution_count": 7,
      "outputs": [
        {
          "output_type": "stream",
          "text": [
            "spam:  (1368, 2)\n",
            "other:  (4360, 2)\n"
          ],
          "name": "stdout"
        }
      ]
    },
    {
      "cell_type": "code",
      "metadata": {
        "colab": {
          "base_uri": "https://localhost:8080/"
        },
        "id": "CvVZ6pOU1nva",
        "outputId": "a42fbdda-6f7e-4c45-b194-6ac0dcef6692"
      },
      "source": [
        "print('Spam Percentage: ', round(len(spam)/len(df)*100, 4), '%')"
      ],
      "execution_count": 8,
      "outputs": [
        {
          "output_type": "stream",
          "text": [
            "Spam Percentage:  23.8827 %\n"
          ],
          "name": "stdout"
        }
      ]
    },
    {
      "cell_type": "code",
      "metadata": {
        "colab": {
          "base_uri": "https://localhost:8080/",
          "height": 279
        },
        "id": "wiHo1HBg2W56",
        "outputId": "af35041d-baae-4820-f40a-366336adfd61"
      },
      "source": [
        "sns.countplot(x=df['spam'], label='Spam vs. Other');"
      ],
      "execution_count": 9,
      "outputs": [
        {
          "output_type": "display_data",
          "data": {
            "image/png": "[encoded data removed]",
            "text/plain": [
              "<Figure size 432x288 with 1 Axes>"
            ]
          },
          "metadata": {
            "tags": [],
            "needs_background": "light"
          }
        }
      ]
    },
    {
      "cell_type": "code",
      "metadata": {
        "colab": {
          "base_uri": "https://localhost:8080/",
          "height": 442
        },
        "id": "6c10AwpOBp6n",
        "outputId": "3ac3713f-b48d-432e-9c29-4b87eca83099"
      },
      "source": [
        "# crate training set (70% of all data)\n",
        "train_size = int(len(df['text'])*0.7)\n",
        "train = df.iloc[0:train_size,:]\n",
        "print(train.shape)\n",
        "train"
      ],
      "execution_count": 28,
      "outputs": [
        {
          "output_type": "stream",
          "text": [
            "(4009, 2)\n"
          ],
          "name": "stdout"
        },
        {
          "output_type": "execute_result",
          "data": {
            "text/html": [
              "<div>\n",
              "<style scoped>\n",
              "    .dataframe tbody tr th:only-of-type {\n",
              "        vertical-align: middle;\n",
              "    }\n",
              "\n",
              "    .dataframe tbody tr th {\n",
              "        vertical-align: top;\n",
              "    }\n",
              "\n",
              "    .dataframe thead th {\n",
              "        text-align: right;\n",
              "    }\n",
              "</style>\n",
              "<table border=\"1\" class=\"dataframe\">\n",
              "  <thead>\n",
              "    <tr style=\"text-align: right;\">\n",
              "      <th></th>\n",
              "      <th>text</th>\n",
              "      <th>spam</th>\n",
              "    </tr>\n",
              "  </thead>\n",
              "  <tbody>\n",
              "    <tr>\n",
              "      <th>2340</th>\n",
              "      <td>Subject: interview schedule for yingquan shen ...</td>\n",
              "      <td>0</td>\n",
              "    </tr>\n",
              "    <tr>\n",
              "      <th>1949</th>\n",
              "      <td>Subject: howard &amp; lawrence for vince  hey vinc...</td>\n",
              "      <td>0</td>\n",
              "    </tr>\n",
              "    <tr>\n",
              "      <th>3562</th>\n",
              "      <td>Subject: talon  vince :  here is the document ...</td>\n",
              "      <td>0</td>\n",
              "    </tr>\n",
              "    <tr>\n",
              "      <th>962</th>\n",
              "      <td>Subject: cell phone weather service for outdoo...</td>\n",
              "      <td>1</td>\n",
              "    </tr>\n",
              "    <tr>\n",
              "      <th>1406</th>\n",
              "      <td>Subject: class proposal by yannis  hi vince , ...</td>\n",
              "      <td>0</td>\n",
              "    </tr>\n",
              "    <tr>\n",
              "      <th>...</th>\n",
              "      <td>...</td>\n",
              "      <td>...</td>\n",
              "    </tr>\n",
              "    <tr>\n",
              "      <th>2225</th>\n",
              "      <td>Subject: re : re : workshop  this is great new...</td>\n",
              "      <td>0</td>\n",
              "    </tr>\n",
              "    <tr>\n",
              "      <th>3103</th>\n",
              "      <td>Subject: re : hi :  zeigham ,  mike roberts fr...</td>\n",
              "      <td>0</td>\n",
              "    </tr>\n",
              "    <tr>\n",
              "      <th>5017</th>\n",
              "      <td>Subject: re : var  vince  thanks for the updat...</td>\n",
              "      <td>0</td>\n",
              "    </tr>\n",
              "    <tr>\n",
              "      <th>3445</th>\n",
              "      <td>Subject: updated electricity homepage ( great ...</td>\n",
              "      <td>0</td>\n",
              "    </tr>\n",
              "    <tr>\n",
              "      <th>509</th>\n",
              "      <td>Subject: up to $ 1 , 500 . 00 part time 22311 ...</td>\n",
              "      <td>1</td>\n",
              "    </tr>\n",
              "  </tbody>\n",
              "</table>\n",
              "<p>4009 rows × 2 columns</p>\n",
              "</div>"
            ],
            "text/plain": [
              "                                                   text  spam\n",
              "2340  Subject: interview schedule for yingquan shen ...     0\n",
              "1949  Subject: howard & lawrence for vince  hey vinc...     0\n",
              "3562  Subject: talon  vince :  here is the document ...     0\n",
              "962   Subject: cell phone weather service for outdoo...     1\n",
              "1406  Subject: class proposal by yannis  hi vince , ...     0\n",
              "...                                                 ...   ...\n",
              "2225  Subject: re : re : workshop  this is great new...     0\n",
              "3103  Subject: re : hi :  zeigham ,  mike roberts fr...     0\n",
              "5017  Subject: re : var  vince  thanks for the updat...     0\n",
              "3445  Subject: updated electricity homepage ( great ...     0\n",
              "509   Subject: up to $ 1 , 500 . 00 part time 22311 ...     1\n",
              "\n",
              "[4009 rows x 2 columns]"
            ]
          },
          "metadata": {
            "tags": []
          },
          "execution_count": 28
        }
      ]
    },
    {
      "cell_type": "code",
      "metadata": {
        "id": "uMnSkxowC8r-",
        "colab": {
          "base_uri": "https://localhost:8080/",
          "height": 442
        },
        "outputId": "6d31bc2a-73f1-4715-d64d-8045cd62c983"
      },
      "source": [
        "# create the test set\n",
        "test = df.iloc[train_size:,:]\n",
        "print(test.shape)\n",
        "test"
      ],
      "execution_count": 29,
      "outputs": [
        {
          "output_type": "stream",
          "text": [
            "(1719, 2)\n"
          ],
          "name": "stdout"
        },
        {
          "output_type": "execute_result",
          "data": {
            "text/html": [
              "<div>\n",
              "<style scoped>\n",
              "    .dataframe tbody tr th:only-of-type {\n",
              "        vertical-align: middle;\n",
              "    }\n",
              "\n",
              "    .dataframe tbody tr th {\n",
              "        vertical-align: top;\n",
              "    }\n",
              "\n",
              "    .dataframe thead th {\n",
              "        text-align: right;\n",
              "    }\n",
              "</style>\n",
              "<table border=\"1\" class=\"dataframe\">\n",
              "  <thead>\n",
              "    <tr style=\"text-align: right;\">\n",
              "      <th></th>\n",
              "      <th>text</th>\n",
              "      <th>spam</th>\n",
              "    </tr>\n",
              "  </thead>\n",
              "  <tbody>\n",
              "    <tr>\n",
              "      <th>1672</th>\n",
              "      <td>Subject: re : term project :  dear vince ,  i ...</td>\n",
              "      <td>0</td>\n",
              "    </tr>\n",
              "    <tr>\n",
              "      <th>2140</th>\n",
              "      <td>Subject: move to the research area  hi shalesh...</td>\n",
              "      <td>0</td>\n",
              "    </tr>\n",
              "    <tr>\n",
              "      <th>898</th>\n",
              "      <td>Subject: leading in affordable healthcare . . ...</td>\n",
              "      <td>1</td>\n",
              "    </tr>\n",
              "    <tr>\n",
              "      <th>5315</th>\n",
              "      <td>Subject: mscf speaker series  mscf speaker ser...</td>\n",
              "      <td>0</td>\n",
              "    </tr>\n",
              "    <tr>\n",
              "      <th>4386</th>\n",
              "      <td>Subject: short term private firm model : stati...</td>\n",
              "      <td>0</td>\n",
              "    </tr>\n",
              "    <tr>\n",
              "      <th>...</th>\n",
              "      <td>...</td>\n",
              "      <td>...</td>\n",
              "    </tr>\n",
              "    <tr>\n",
              "      <th>643</th>\n",
              "      <td>Subject: otc live ' s new home run oil stock o...</td>\n",
              "      <td>1</td>\n",
              "    </tr>\n",
              "    <tr>\n",
              "      <th>5373</th>\n",
              "      <td>Subject: position report for dual trigger prod...</td>\n",
              "      <td>0</td>\n",
              "    </tr>\n",
              "    <tr>\n",
              "      <th>349</th>\n",
              "      <td>Subject: take a look at this microcap  benelux...</td>\n",
              "      <td>1</td>\n",
              "    </tr>\n",
              "    <tr>\n",
              "      <th>5522</th>\n",
              "      <td>Subject: ne gov . johanns mtg  vince , fyi on ...</td>\n",
              "      <td>0</td>\n",
              "    </tr>\n",
              "    <tr>\n",
              "      <th>4176</th>\n",
              "      <td>Subject: enron cover letter &amp; resume for dave ...</td>\n",
              "      <td>0</td>\n",
              "    </tr>\n",
              "  </tbody>\n",
              "</table>\n",
              "<p>1719 rows × 2 columns</p>\n",
              "</div>"
            ],
            "text/plain": [
              "                                                   text  spam\n",
              "1672  Subject: re : term project :  dear vince ,  i ...     0\n",
              "2140  Subject: move to the research area  hi shalesh...     0\n",
              "898   Subject: leading in affordable healthcare . . ...     1\n",
              "5315  Subject: mscf speaker series  mscf speaker ser...     0\n",
              "4386  Subject: short term private firm model : stati...     0\n",
              "...                                                 ...   ...\n",
              "643   Subject: otc live ' s new home run oil stock o...     1\n",
              "5373  Subject: position report for dual trigger prod...     0\n",
              "349   Subject: take a look at this microcap  benelux...     1\n",
              "5522  Subject: ne gov . johanns mtg  vince , fyi on ...     0\n",
              "4176  Subject: enron cover letter & resume for dave ...     0\n",
              "\n",
              "[1719 rows x 2 columns]"
            ]
          },
          "metadata": {
            "tags": []
          },
          "execution_count": 29
        }
      ]
    },
    {
      "cell_type": "code",
      "metadata": {
        "id": "BWun5L7b_v4P"
      },
      "source": [
        "# create text vectorizer object\n",
        "vectorizer = CV()"
      ],
      "execution_count": 12,
      "outputs": []
    },
    {
      "cell_type": "code",
      "metadata": {
        "colab": {
          "base_uri": "https://localhost:8080/"
        },
        "id": "WDrvux8m5U41",
        "outputId": "732c3f64-2a8a-45b8-8d1f-0a88375307c9"
      },
      "source": [
        "type(vectorizer)"
      ],
      "execution_count": 23,
      "outputs": [
        {
          "output_type": "execute_result",
          "data": {
            "text/plain": [
              "sklearn.feature_extraction.text.CountVectorizer"
            ]
          },
          "metadata": {
            "tags": []
          },
          "execution_count": 23
        }
      ]
    },
    {
      "cell_type": "code",
      "metadata": {
        "id": "HEgHqeGKBhV9",
        "colab": {
          "base_uri": "https://localhost:8080/"
        },
        "outputId": "19fb03a4-2994-429e-d56f-ed9ceab6364d"
      },
      "source": [
        "# transforming text into vectors \n",
        "v_train = vectorizer.fit_transform(train['text'])\n",
        "print(v_train.shape)"
      ],
      "execution_count": 25,
      "outputs": [
        {
          "output_type": "stream",
          "text": [
            "(4009, 31951)\n"
          ],
          "name": "stdout"
        }
      ]
    },
    {
      "cell_type": "code",
      "metadata": {
        "id": "sUCMzz0PFqh8",
        "colab": {
          "base_uri": "https://localhost:8080/"
        },
        "outputId": "04d30e07-cf94-4a85-ad41-6ebf45199b0f"
      },
      "source": [
        "# create training sets\n",
        "X_train = v_train.toarray()\n",
        "print(\"X_train: \",X_train.shape)\n",
        "y_train = train['spam'].values\n",
        "print(\"y_train: \",y_train.shape)"
      ],
      "execution_count": 26,
      "outputs": [
        {
          "output_type": "stream",
          "text": [
            "X_train:  (4009, 31951)\n",
            "y_train:  (4009,)\n"
          ],
          "name": "stdout"
        }
      ]
    },
    {
      "cell_type": "code",
      "metadata": {
        "id": "LhIbKeGlF_3D",
        "colab": {
          "base_uri": "https://localhost:8080/"
        },
        "outputId": "004afee8-0657-42bb-9575-a51bdd8223b7"
      },
      "source": [
        "# transforming text into vectors (test data sets)\n",
        "v_test = vectorizer.transform(test['text'])\n",
        "print(\"Test data set shape: \",v_test.shape)"
      ],
      "execution_count": 30,
      "outputs": [
        {
          "output_type": "stream",
          "text": [
            "Test data set shape:  (1719, 31951)\n"
          ],
          "name": "stdout"
        }
      ]
    },
    {
      "cell_type": "code",
      "metadata": {
        "id": "e3J5wXllGeAl",
        "colab": {
          "base_uri": "https://localhost:8080/"
        },
        "outputId": "f9488696-4b07-4cfb-a36e-66f6b94e82c4"
      },
      "source": [
        "# create testing sets\n",
        "X_test = v_test.toarray()\n",
        "print(\"X_test: \",X_test.shape)\n",
        "y_test = test['spam'].values\n",
        "print(\"y_test: \",y_test.shape)"
      ],
      "execution_count": 31,
      "outputs": [
        {
          "output_type": "stream",
          "text": [
            "X_test:  (1719, 31951)\n",
            "y_test:  (1719,)\n"
          ],
          "name": "stdout"
        }
      ]
    },
    {
      "cell_type": "code",
      "metadata": {
        "colab": {
          "base_uri": "https://localhost:8080/"
        },
        "id": "q06MP8GCGsJb",
        "outputId": "db038231-5408-4792-8423-734dec75f32e"
      },
      "source": [
        "# create Multinomial Naive Bayes Classifier\n",
        "clf_mnb = MNB()\n",
        "clf_mnb.fit(X_train, y_train)"
      ],
      "execution_count": 17,
      "outputs": [
        {
          "output_type": "execute_result",
          "data": {
            "text/plain": [
              "MultinomialNB(alpha=1.0, class_prior=None, fit_prior=True)"
            ]
          },
          "metadata": {
            "tags": []
          },
          "execution_count": 17
        }
      ]
    },
    {
      "cell_type": "code",
      "metadata": {
        "id": "x801EIiRG0oL"
      },
      "source": [
        "# create predicted y set\n",
        "y_pred_mnb = clf_mnb.predict(X_test)"
      ],
      "execution_count": 18,
      "outputs": []
    },
    {
      "cell_type": "code",
      "metadata": {
        "colab": {
          "base_uri": "https://localhost:8080/"
        },
        "id": "zvGn9Nj6NFYi",
        "outputId": "0c933810-5118-4ee6-ba96-5cc744720208"
      },
      "source": [
        "# classification report\n",
        "print(classification_report(y_test, y_pred_mnb))"
      ],
      "execution_count": 19,
      "outputs": [
        {
          "output_type": "stream",
          "text": [
            "              precision    recall  f1-score   support\n",
            "\n",
            "           0       0.99      0.99      0.99      1324\n",
            "           1       0.98      0.98      0.98       395\n",
            "\n",
            "    accuracy                           0.99      1719\n",
            "   macro avg       0.99      0.99      0.99      1719\n",
            "weighted avg       0.99      0.99      0.99      1719\n",
            "\n"
          ],
          "name": "stdout"
        }
      ]
    },
    {
      "cell_type": "code",
      "metadata": {
        "colab": {
          "base_uri": "https://localhost:8080/",
          "height": 265
        },
        "id": "G5QZuadVNVOR",
        "outputId": "474e42af-3725-4f4e-f931-aed085c94cc3"
      },
      "source": [
        "# create the confusion matrix and plot it\n",
        "conf_matrix = confusion_matrix(y_test, y_pred_mnb)\n",
        "sns.heatmap(conf_matrix, annot=True);"
      ],
      "execution_count": 20,
      "outputs": [
        {
          "output_type": "display_data",
          "data": {
            "image/png": "[encoded data removed]",
            "text/plain": [
              "<Figure size 432x288 with 2 Axes>"
            ]
          },
          "metadata": {
            "tags": [],
            "needs_background": "light"
          }
        }
      ]
    },
    {
      "cell_type": "code",
      "metadata": {
        "colab": {
          "base_uri": "https://localhost:8080/"
        },
        "id": "HSYHWYReOBgq",
        "outputId": "b19eefd2-87d9-4bed-b588-342020d86cef"
      },
      "source": [
        "# print mnb model score\n",
        "print('Score: ',round(accuracy_score(y_test, y_pred_mnb)*100, 4), '%')"
      ],
      "execution_count": 21,
      "outputs": [
        {
          "output_type": "stream",
          "text": [
            "Score:  99.1856 %\n"
          ],
          "name": "stdout"
        }
      ]
    }
  ]
}